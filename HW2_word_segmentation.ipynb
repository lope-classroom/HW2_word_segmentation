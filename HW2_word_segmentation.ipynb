{
  "cells": [
    {
      "cell_type": "code",
      "execution_count": null,
      "metadata": {
        "id": "PywqCnbYp6-o"
      },
      "outputs": [],
      "source": [
        "## 每個classroom repo應有dcard-top100.csv語料，若沒有的話可以到這裡另外下載：\n",
        "## https://github.com/lope-classroom/lab-hw/blob/77f8a80e300297f4be17c708244a17133227c49c/dcard-top100.csv"
      ]
    },
    {
      "cell_type": "code",
      "execution_count": null,
      "metadata": {
        "id": "-wQKUEf8pUR1"
      },
      "outputs": [],
      "source": [
        "# 下載ckip\n",
        "!pip install -U ckip-transformers\n",
        "\n",
        "# dependencies\n",
        "import jieba\n",
        "import jieba.posseg as pseg\n",
        "import logging\n",
        "jieba.setLogLevel(logging.INFO)\n",
        "\n",
        "import ckip_transformers\n",
        "from ckip_transformers.nlp import CkipWordSegmenter, CkipPosTagger"
      ]
    },
    {
      "cell_type": "markdown",
      "metadata": {
        "id": "HRl3yq7SqepT"
      },
      "source": [
        "## 題目1. **比較jieba和CKIP斷詞**\n",
        "> 本週使用同一份dcard-top100語料，分別用jieba及CKIP做斷詞，將斷詞出來的結果做成詞頻表（有word, frequency兩個欄位的dataframe），列印出「前10名」以及「倒數10名」的**二字詞**和頻率即可。"
      ]
    }
  ],
  "metadata": {
    "colab": {
      "provenance": []
    },
    "kernelspec": {
      "display_name": "Python 3",
      "name": "python3"
    },
    "language_info": {
      "name": "python"
    }
  },
  "nbformat": 4,
  "nbformat_minor": 0
}
