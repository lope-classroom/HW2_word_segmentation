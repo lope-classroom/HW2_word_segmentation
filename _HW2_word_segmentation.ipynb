{
  "nbformat": 4,
  "nbformat_minor": 0,
  "metadata": {
    "colab": {
      "provenance": []
    },
    "kernelspec": {
      "name": "python3",
      "display_name": "Python 3"
    },
    "language_info": {
      "name": "python"
    }
  },
  "cells": [
    {
      "cell_type": "code",
      "source": [
        "## 每個classroom repo應有dcard-top100.csv語料，若沒有的話可以到這裡另外下載：\n",
        "## https://github.com/lope-classroom/lab-hw/blob/77f8a80e300297f4be17c708244a17133227c49c/dcard-top100.csv"
      ],
      "metadata": {
        "id": "PywqCnbYp6-o"
      },
      "execution_count": null,
      "outputs": []
    },
    {
      "cell_type": "code",
      "source": [
        "# 下載ckip\n",
        "!pip install -U ckip-transformers\n",
        "\n",
        "# dependencies\n",
        "import jieba\n",
        "import jieba.posseg as pseg\n",
        "import logging\n",
        "jieba.setLogLevel(logging.INFO)\n",
        "\n",
        "import ckip_transformers\n",
        "from ckip_transformers.nlp import CkipWordSegmenter, CkipPosTagger"
      ],
      "metadata": {
        "id": "-wQKUEf8pUR1"
      },
      "execution_count": null,
      "outputs": []
    },
    {
      "cell_type": "code",
      "source": [
        "import pandas as pd"
      ],
      "metadata": {
        "id": "24NgoDZwqY6p"
      },
      "execution_count": 4,
      "outputs": []
    },
    {
      "cell_type": "markdown",
      "source": [
        "## 題目1. **比較jieba和CKIP斷詞**\n",
        "> 本週使用同一份dcard-top100語料，分別用jieba及CKIP做斷詞，將斷詞出來的結果做成詞頻表（有word, frequency兩個欄位的dataframe），列印出「前10名」以及「倒數10名」的詞和頻率即可。"
      ],
      "metadata": {
        "id": "HRl3yq7SqepT"
      }
    }
  ]
}